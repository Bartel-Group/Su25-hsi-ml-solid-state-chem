{
 "cells": [
  {
   "cell_type": "markdown",
   "metadata": {},
   "source": [
    "# Objectives of this Lab\n",
    "- configure your computers for the rest of this course"
   ]
  },
  {
   "cell_type": "markdown",
   "metadata": {},
   "source": [
    "# Step 1: Create a GitHub account (if you don't have one)\n",
    "- https://github.com/"
   ]
  },
  {
   "cell_type": "markdown",
   "metadata": {},
   "source": [
    "# Step 2: Install python on your computer\n",
    "- we'll use Anaconda and follow [the CEMS guide](https://docs.cems.umn.edu/intro/Prt_01_Lssn_00_Getting_Started.html)\n",
    "- you can do this without GitHub access"
   ]
  },
  {
   "cell_type": "markdown",
   "metadata": {},
   "source": [
    "## Confirm python is installed\n",
    "- Open a terminal (on Mac, this is called \"terminal\"; on Windows, Anaconda Prompt should work)\n",
    "- Launch python by typing `python` and hitting `ENTER` (if `python` doesn't work, try `python3`):\n",
    "```bash\n",
    "python\n",
    "```\n",
    "\n",
    "- Run some trivial code:\n",
    "```python3\n",
    "print('hello')\n",
    "a = 3\n",
    "b = 4\n",
    "c = a + b\n",
    "c\n",
    "```\n",
    "- Exit python:\n",
    "```python3\n",
    "exit()\n",
    "```\n",
    "\n",
    "### If these things don't work (and you have a Mac):\n",
    "- **install using the command line**\n",
    "- Go [here](https://www.anaconda.com/products/distribution#macos)\n",
    "- Click the apple under \"additional installers\"\n",
    "- This should take you to the bottom of the page with a list of files like MacOS: 64-bit ...\n",
    "- If you have a new Mac (M1 or M2), click on \"64-Bit (M1) Command Line Installer (472 MB)\"\n",
    "- If you have a Mac w/ an Intel processor (ie not M1 or M2), click on 64-Bit Command Line Installer (681 MB)\n",
    "- Then open your terminal\n",
    "```bash\n",
    "cd ~/Downloads\n",
    "bash Anaconda3-*.sh\n",
    "```\n",
    "- Hit ENTER or answer yes when prompted"
   ]
  },
  {
   "cell_type": "markdown",
   "metadata": {},
   "source": [
    "# Step 3: \"Pull\" our course repository from GitHub\n",
    "- Open terminal (or Anaconda Prompt)\n",
    "- Navigate to any folder on your computer where you'd like to keep a local version of the course repository\n",
    "- e.g.,\n",
    "```bash\n",
    "cd /Users/cbartel\n",
    "mkdir hsi_summer_2025\n",
    "cd hsi_summer_2025\n",
    "```\n",
    "- For Windows users, install `git`\n",
    "```bash\n",
    "conda install -c anaconda git\n",
    "```\n",
    "- Pull the repository\n",
    "```bash\n",
    "git clone https://github.com/Bartel-Group/Su25-hsi-ml-solid-state-chem.git\n",
    "```\n",
    "- Make sure this worked by going to the `notebooks` folder of our repository\n",
    "```bash\n",
    "cd Su25-hsi-ml-solid-state-chem/modules/notebooks\n",
    "```"
   ]
  },
  {
   "cell_type": "markdown",
   "metadata": {},
   "source": [
    "# Step 4: Install Python packages using a conda environment\n",
    "```bash\n",
    "conda deactivate\n",
    "cd Su25-hsi-ml-solid-state-chem\n",
    "conda env create --file modules/files/env-hsi25_ml-ssc_25.0.yml --force\n",
    "conda activate hsi25_ml-ssc_25.0\n",
    "python -m ipykernel install --user --name=hsi25_ml-ssc_25.0\n",
    "cd modules/notebooks\n",
    "jupyter notebook\n",
    "```\n",
    "- this should open a Jupyter instance on your browser\n",
    "- now open this file (lab1_getting_started.ipynb)\n",
    "  - look in the top right, does it say \"hsi25_ml-ssc_25.0\" below the \"Logout\" button? \n",
    "  - if not, navigate to Kernel --> Change Kernel --> hsi25_ml-ssc_25.0\n",
    "\n",
    "## If you get an \"OpenSSL\" error on Windows\n",
    "- try the following before the `conda env create` step:\n",
    "```bash\n",
    "conda activate base\n",
    "conda update --all\n",
    "```\n",
    "- **note**: the installation may take up 30-40 minutes, but if it doesn't print an error, it's still working on it"
   ]
  },
  {
   "cell_type": "markdown",
   "metadata": {},
   "source": [
    "# Step 5: Check if your installation worked\n",
    "- run the next cell (SHIFT + ENTER)"
   ]
  },
  {
   "cell_type": "code",
   "execution_count": 1,
   "metadata": {},
   "outputs": [
    {
     "name": "stdout",
     "output_type": "stream",
     "text": [
      "wooo you are good to go!\n"
     ]
    }
   ],
   "source": [
    "import warnings\n",
    "warnings.filterwarnings(\"ignore\", message=\".*The 'nopython' keyword.*\")\n",
    "\n",
    "import scipy\n",
    "import numpy\n",
    "import pandas\n",
    "import sklearn\n",
    "import matplotlib\n",
    "import torch\n",
    "import torchvision\n",
    "import seaborn\n",
    "import pymatgen\n",
    "import matminer\n",
    "import rdkit\n",
    "import mordred\n",
    "import mlxtend\n",
    "import networkx\n",
    "import shap\n",
    "import xgboost\n",
    "import openpyxl\n",
    "import dice_ml\n",
    "import shap\n",
    "\n",
    "print('wooo you are good to go!')"
   ]
  },
  {
   "cell_type": "markdown",
   "metadata": {},
   "source": [
    "## If you run into errors, feel free to send me an email: cbartel@umn.edu"
   ]
  },
  {
   "cell_type": "markdown",
   "metadata": {},
   "source": [
    "# Step 6: Pull the repository before class in case I update things\n",
    "1) Open a terminal (\"terminal\" for Mac, \"Anaconda Prompt\" for Windows)\n",
    "\n",
    "2) Navigate to your git repository\n",
    "\n",
    "```bash\n",
    "cd <the_directory_where_you_cloned>\n",
    "```\n",
    "\n",
    "3) Pull the repository\n",
    "\n",
    "```bash\n",
    "git pull\n",
    "```\n",
    "\n",
    "4) Now, the version on your computer should be identical to the version that's online at [this link](https://github.com/Bartel-Group/Su25-hsi-ml-solid-state-chem)\n",
    "\n",
    "## If you don't care about local changes you've made\n",
    "\n",
    "- `pull` from the remote and override local edits\n",
    "\n",
    "```bash\n",
    "git stash\n",
    "git pull -X theirs\n",
    "```\n",
    "\n",
    "- This is all you ever **need** to do for this class.\n",
    "\n",
    "## If you **want to change files and keep your edits**\n",
    "\n",
    "- create a copy of the current notebook we are working on (make sure the name is different than the name of the file you pulled). An easy way to do this is by hitting \"Duplicate\" after launching Jupyter"
   ]
  }
 ],
 "metadata": {
  "colab": {
   "authorship_tag": "ABX9TyMjP8utbo3RGZduyE5Mhm3L",
   "collapsed_sections": [],
   "provenance": []
  },
  "kernelspec": {
   "display_name": "hsi25_ml-ssc_25.0",
   "language": "python",
   "name": "hsi25_ml-ssc_25.0"
  },
  "language_info": {
   "codemirror_mode": {
    "name": "ipython",
    "version": 3
   },
   "file_extension": ".py",
   "mimetype": "text/x-python",
   "name": "python",
   "nbconvert_exporter": "python",
   "pygments_lexer": "ipython3",
   "version": "3.11.13"
  },
  "vscode": {
   "interpreter": {
    "hash": "702a0e69d05dce55110e57cc861025084f5bfa7960ad90440f1fb994b6254267"
   }
  }
 },
 "nbformat": 4,
 "nbformat_minor": 4
}
