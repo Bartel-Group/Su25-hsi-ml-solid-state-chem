{
 "cells": [
  {
   "cell_type": "markdown",
   "id": "b88b95dd-f383-4e7b-9ff7-3ae5c60f478f",
   "metadata": {},
   "source": [
    "# Objectives of this Lab\n",
    "- familiarize yourself with `sklearn`\n",
    "- train some simple models\n",
    "\n",
    "## Reminders\n",
    "- activate your hsi25_ml-ssc_25.0 conda env (kernel)"
   ]
  },
  {
   "cell_type": "markdown",
   "id": "25c1d5e6-571e-4ba2-94d1-74c355a35d73",
   "metadata": {},
   "source": [
    "# scikit-learn\n",
    "- has (almost) everything you'll need to handle small-to-medium sized datasets\n",
    "- helps you go from data you collected to training and evaluating many different kinds of machine learning models\n",
    "- the [the user guide](https://scikit-learn.org/stable/user_guide.html) also has excellent documentation and some fundamental explanations"
   ]
  },
  {
   "cell_type": "markdown",
   "id": "78370126-6d46-4e5b-97ab-dafc3766586d",
   "metadata": {},
   "source": [
    "# Let's load some simple thermochemical data\n",
    "- I've collected thermochemical data for aluminum oxide (Al2O3) in the alpha (corundum) crystal structure\n",
    "- This data was inferred from calorimetry experiments and is reported in the [NIST JANAF Thermochemical Tables](https://janaf.nist.gov/)\n"
   ]
  },
  {
   "cell_type": "code",
   "execution_count": 2,
   "id": "acb8d36a-7bc8-4e53-ab2c-ed00afe45386",
   "metadata": {},
   "outputs": [],
   "source": [
    "import os\n",
    "import pandas as pd\n",
    "import matplotlib.pyplot as plt\n",
    "import numpy as np"
   ]
  },
  {
   "cell_type": "code",
   "execution_count": 3,
   "id": "674301a2-6b39-4a02-992a-211fdad46b2b",
   "metadata": {},
   "outputs": [],
   "source": [
    "plt.style.use('../files/plot_style.mplstyle')\n",
    "marker_size=5\n",
    "\n",
    "current_dir = os.getcwd()\n",
    "data_dir = os.path.join(current_dir, '..', 'data')\n",
    "data_file = os.path.join(data_dir, 'Al2O3.csv')"
   ]
  },
  {
   "cell_type": "code",
   "execution_count": 4,
   "id": "1ad4bdcc-fdd5-4798-8d38-aa4abff96cd7",
   "metadata": {},
   "outputs": [
    {
     "name": "stdout",
     "output_type": "stream",
     "text": [
      "cmpd,T,G,H,S\n",
      "Al2O3,300,-0.031603669,0.000303881,0.0001063585\n",
      "Al2O3,400,-0.044907706,0.018626108,0.00015883453499999998\n",
      "Al2O3,500,-0.063176038,0.039604084,0.000205560242\n",
      "Al2O3,600,-0.085837177,0.062257968,0.00024682524\n",
      "Al2O3,700,-0.112387832,0.086057936,0.0002834939557142857\n",
      "Al2O3,800,-0.142410116,0.110690988,0.00031637638000000005\n",
      "Al2O3,900,-0.175559102,0.135959372,0.00034613163777777776\n",
      "Al2O3,1000,-0.211549567,0.161729803,0.00037327937\n",
      "Al2O3,1100,-0.25014168,0.18790838,0.0003982273272727273\n"
     ]
    }
   ],
   "source": [
    "!head ../data/Al2O3.csv"
   ]
  },
  {
   "cell_type": "code",
   "execution_count": 5,
   "id": "45f49e24-66e6-4e6e-b9d9-bc184d99ba07",
   "metadata": {},
   "outputs": [
    {
     "data": {
      "text/html": [
       "<div>\n",
       "<style scoped>\n",
       "    .dataframe tbody tr th:only-of-type {\n",
       "        vertical-align: middle;\n",
       "    }\n",
       "\n",
       "    .dataframe tbody tr th {\n",
       "        vertical-align: top;\n",
       "    }\n",
       "\n",
       "    .dataframe thead th {\n",
       "        text-align: right;\n",
       "    }\n",
       "</style>\n",
       "<table border=\"1\" class=\"dataframe\">\n",
       "  <thead>\n",
       "    <tr style=\"text-align: right;\">\n",
       "      <th></th>\n",
       "      <th>cmpd</th>\n",
       "      <th>T</th>\n",
       "      <th>G</th>\n",
       "      <th>H</th>\n",
       "      <th>S</th>\n",
       "    </tr>\n",
       "  </thead>\n",
       "  <tbody>\n",
       "    <tr>\n",
       "      <th>0</th>\n",
       "      <td>Al2O3</td>\n",
       "      <td>300</td>\n",
       "      <td>-0.031604</td>\n",
       "      <td>0.000304</td>\n",
       "      <td>0.000106</td>\n",
       "    </tr>\n",
       "    <tr>\n",
       "      <th>1</th>\n",
       "      <td>Al2O3</td>\n",
       "      <td>400</td>\n",
       "      <td>-0.044908</td>\n",
       "      <td>0.018626</td>\n",
       "      <td>0.000159</td>\n",
       "    </tr>\n",
       "    <tr>\n",
       "      <th>2</th>\n",
       "      <td>Al2O3</td>\n",
       "      <td>500</td>\n",
       "      <td>-0.063176</td>\n",
       "      <td>0.039604</td>\n",
       "      <td>0.000206</td>\n",
       "    </tr>\n",
       "    <tr>\n",
       "      <th>3</th>\n",
       "      <td>Al2O3</td>\n",
       "      <td>600</td>\n",
       "      <td>-0.085837</td>\n",
       "      <td>0.062258</td>\n",
       "      <td>0.000247</td>\n",
       "    </tr>\n",
       "    <tr>\n",
       "      <th>4</th>\n",
       "      <td>Al2O3</td>\n",
       "      <td>700</td>\n",
       "      <td>-0.112388</td>\n",
       "      <td>0.086058</td>\n",
       "      <td>0.000283</td>\n",
       "    </tr>\n",
       "  </tbody>\n",
       "</table>\n",
       "</div>"
      ],
      "text/plain": [
       "    cmpd    T         G         H         S\n",
       "0  Al2O3  300 -0.031604  0.000304  0.000106\n",
       "1  Al2O3  400 -0.044908  0.018626  0.000159\n",
       "2  Al2O3  500 -0.063176  0.039604  0.000206\n",
       "3  Al2O3  600 -0.085837  0.062258  0.000247\n",
       "4  Al2O3  700 -0.112388  0.086058  0.000283"
      ]
     },
     "execution_count": 5,
     "metadata": {},
     "output_type": "execute_result"
    }
   ],
   "source": [
    "df = pd.read_csv(data_file)\n",
    "df.head()"
   ]
  },
  {
   "cell_type": "markdown",
   "id": "8b4c6fa6-a204-4fe5-807b-ea666aac0fa3",
   "metadata": {},
   "source": [
    "# Let's shift our units from eV to meV just to make them nicer to plot"
   ]
  },
  {
   "cell_type": "code",
   "execution_count": 6,
   "id": "8f7578ac-1c2a-40a6-95a8-1d7e54a4207e",
   "metadata": {},
   "outputs": [],
   "source": [
    "for col in ['G', 'H', 'S']:\n",
    "    df[col] = df[col] * 1000"
   ]
  },
  {
   "cell_type": "code",
   "execution_count": 7,
   "id": "5f55745f-8634-47d6-b24e-6fec74157f43",
   "metadata": {},
   "outputs": [
    {
     "data": {
      "text/html": [
       "<div>\n",
       "<style scoped>\n",
       "    .dataframe tbody tr th:only-of-type {\n",
       "        vertical-align: middle;\n",
       "    }\n",
       "\n",
       "    .dataframe tbody tr th {\n",
       "        vertical-align: top;\n",
       "    }\n",
       "\n",
       "    .dataframe thead th {\n",
       "        text-align: right;\n",
       "    }\n",
       "</style>\n",
       "<table border=\"1\" class=\"dataframe\">\n",
       "  <thead>\n",
       "    <tr style=\"text-align: right;\">\n",
       "      <th></th>\n",
       "      <th>cmpd</th>\n",
       "      <th>T</th>\n",
       "      <th>G</th>\n",
       "      <th>H</th>\n",
       "      <th>S</th>\n",
       "    </tr>\n",
       "  </thead>\n",
       "  <tbody>\n",
       "    <tr>\n",
       "      <th>0</th>\n",
       "      <td>Al2O3</td>\n",
       "      <td>300</td>\n",
       "      <td>-31.603669</td>\n",
       "      <td>0.303881</td>\n",
       "      <td>0.106358</td>\n",
       "    </tr>\n",
       "    <tr>\n",
       "      <th>1</th>\n",
       "      <td>Al2O3</td>\n",
       "      <td>400</td>\n",
       "      <td>-44.907706</td>\n",
       "      <td>18.626108</td>\n",
       "      <td>0.158835</td>\n",
       "    </tr>\n",
       "    <tr>\n",
       "      <th>2</th>\n",
       "      <td>Al2O3</td>\n",
       "      <td>500</td>\n",
       "      <td>-63.176038</td>\n",
       "      <td>39.604084</td>\n",
       "      <td>0.205560</td>\n",
       "    </tr>\n",
       "    <tr>\n",
       "      <th>3</th>\n",
       "      <td>Al2O3</td>\n",
       "      <td>600</td>\n",
       "      <td>-85.837177</td>\n",
       "      <td>62.257968</td>\n",
       "      <td>0.246825</td>\n",
       "    </tr>\n",
       "    <tr>\n",
       "      <th>4</th>\n",
       "      <td>Al2O3</td>\n",
       "      <td>700</td>\n",
       "      <td>-112.387832</td>\n",
       "      <td>86.057936</td>\n",
       "      <td>0.283494</td>\n",
       "    </tr>\n",
       "  </tbody>\n",
       "</table>\n",
       "</div>"
      ],
      "text/plain": [
       "    cmpd    T           G          H         S\n",
       "0  Al2O3  300  -31.603669   0.303881  0.106358\n",
       "1  Al2O3  400  -44.907706  18.626108  0.158835\n",
       "2  Al2O3  500  -63.176038  39.604084  0.205560\n",
       "3  Al2O3  600  -85.837177  62.257968  0.246825\n",
       "4  Al2O3  700 -112.387832  86.057936  0.283494"
      ]
     },
     "execution_count": 7,
     "metadata": {},
     "output_type": "execute_result"
    }
   ],
   "source": [
    "df.head()"
   ]
  },
  {
   "cell_type": "code",
   "execution_count": 8,
   "id": "8b34741c-53c5-4e76-9288-e9626d67051f",
   "metadata": {},
   "outputs": [
    {
     "name": "stderr",
     "output_type": "stream",
     "text": [
      "/Users/cbartel/bin/anaconda3/envs/hsi25_ml-ssc_25.0/lib/python3.11/site-packages/IPython/core/pylabtools.py:152: UserWarning: This figure includes Axes that are not compatible with tight_layout, so results might be incorrect.\n",
      "  fig.canvas.print_figure(bytes_io, **kw)\n"
     ]
    },
    {
     "data": {
      "image/png": "[encoded data removed]",
      "text/plain": [
       "<Figure size 1200x600 with 1 Axes>"
      ]
     },
     "metadata": {},
     "output_type": "display_data"
    }
   ],
   "source": [
    "fig = plt.figure()\n",
    "ax = plt.subplot(111)\n",
    "#props = list(df)\n",
    "for prop in ['G', 'H', 'S']:\n",
    "    ax = plt.scatter(df['T'].values, df[prop].values, label=prop, s=marker_size)\n",
    "\n",
    "ax = plt.xlabel('Temperature (K)')\n",
    "ax = plt.ylabel('G, H (meV) \\n S (meV/K)')\n",
    "ax = plt.legend(ncol=1)"
   ]
  },
  {
   "cell_type": "markdown",
   "id": "76c603e1-9b99-422c-981a-bc172f773d51",
   "metadata": {},
   "source": [
    "# Recall our general supervised learning problem:\n",
    "\\begin{align}\n",
    "y = f(X)\n",
    "\\end{align}\n",
    "- y is what we're trying to predict (e.g., some property)\n",
    "- X is our matrix of features (the basis on which we want to make predictions)\n",
    "- f is the model we learn (the mapping from X to y)"
   ]
  },
  {
   "cell_type": "markdown",
   "id": "7592ffec-b8e7-4bf3-8d08-b224b4f90673",
   "metadata": {},
   "source": [
    "# Let's \"learn\" how G depends on these properties"
   ]
  },
  {
   "cell_type": "code",
   "execution_count": 9,
   "id": "a4cee8a4-0bee-4f01-ae0a-d2488fe5d712",
   "metadata": {},
   "outputs": [
    {
     "name": "stdout",
     "output_type": "stream",
     "text": [
      "(16, 1)\n",
      "(16,)\n"
     ]
    }
   ],
   "source": [
    "features = ['T']\n",
    "target = 'G'\n",
    "\n",
    "X = df[features].values\n",
    "y = df[target].values\n",
    "\n",
    "print(X.shape)\n",
    "print(y.shape)\n",
    "\n",
    "#X = X.reshape(-1, 1)\n",
    "#X.shape"
   ]
  },
  {
   "cell_type": "markdown",
   "id": "4e9caa5a-c9bb-4ecd-a5b8-496d67b9b567",
   "metadata": {},
   "source": [
    "# First thing we should do -- reserve some data for testing!"
   ]
  },
  {
   "cell_type": "code",
   "execution_count": 10,
   "id": "da1dd96c-0564-43ec-9d8a-869489136843",
   "metadata": {},
   "outputs": [],
   "source": [
    "from sklearn.model_selection import train_test_split"
   ]
  },
  {
   "cell_type": "code",
   "execution_count": 11,
   "id": "6b3f5534-28c3-4b98-8813-60771f46f767",
   "metadata": {},
   "outputs": [
    {
     "name": "stdout",
     "output_type": "stream",
     "text": [
      "Help on function train_test_split in module sklearn.model_selection._split:\n",
      "\n",
      "train_test_split(*arrays, test_size=None, train_size=None, random_state=None, shuffle=True, stratify=None)\n",
      "    Split arrays or matrices into random train and test subsets.\n",
      "    \n",
      "    Quick utility that wraps input validation,\n",
      "    ``next(ShuffleSplit().split(X, y))``, and application to input data\n",
      "    into a single call for splitting (and optionally subsampling) data into a\n",
      "    one-liner.\n",
      "    \n",
      "    Read more in the :ref:`User Guide <cross_validation>`.\n",
      "    \n",
      "    Parameters\n",
      "    ----------\n",
      "    *arrays : sequence of indexables with same length / shape[0]\n",
      "        Allowed inputs are lists, numpy arrays, scipy-sparse\n",
      "        matrices or pandas dataframes.\n",
      "    \n",
      "    test_size : float or int, default=None\n",
      "        If float, should be between 0.0 and 1.0 and represent the proportion\n",
      "        of the dataset to include in the test split. If int, represents the\n",
      "        absolute number of test samples. If None, the value is set to the\n",
      "        complement of the train size. If ``train_size`` is also None, it will\n",
      "        be set to 0.25.\n",
      "    \n",
      "    train_size : float or int, default=None\n",
      "        If float, should be between 0.0 and 1.0 and represent the\n",
      "        proportion of the dataset to include in the train split. If\n",
      "        int, represents the absolute number of train samples. If None,\n",
      "        the value is automatically set to the complement of the test size.\n",
      "    \n",
      "    random_state : int, RandomState instance or None, default=None\n",
      "        Controls the shuffling applied to the data before applying the split.\n",
      "        Pass an int for reproducible output across multiple function calls.\n",
      "        See :term:`Glossary <random_state>`.\n",
      "    \n",
      "    shuffle : bool, default=True\n",
      "        Whether or not to shuffle the data before splitting. If shuffle=False\n",
      "        then stratify must be None.\n",
      "    \n",
      "    stratify : array-like, default=None\n",
      "        If not None, data is split in a stratified fashion, using this as\n",
      "        the class labels.\n",
      "        Read more in the :ref:`User Guide <stratification>`.\n",
      "    \n",
      "    Returns\n",
      "    -------\n",
      "    splitting : list, length=2 * len(arrays)\n",
      "        List containing train-test split of inputs.\n",
      "    \n",
      "        .. versionadded:: 0.16\n",
      "            If the input is sparse, the output will be a\n",
      "            ``scipy.sparse.csr_matrix``. Else, output type is the same as the\n",
      "            input type.\n",
      "    \n",
      "    Examples\n",
      "    --------\n",
      "    >>> import numpy as np\n",
      "    >>> from sklearn.model_selection import train_test_split\n",
      "    >>> X, y = np.arange(10).reshape((5, 2)), range(5)\n",
      "    >>> X\n",
      "    array([[0, 1],\n",
      "           [2, 3],\n",
      "           [4, 5],\n",
      "           [6, 7],\n",
      "           [8, 9]])\n",
      "    >>> list(y)\n",
      "    [0, 1, 2, 3, 4]\n",
      "    \n",
      "    >>> X_train, X_test, y_train, y_test = train_test_split(\n",
      "    ...     X, y, test_size=0.33, random_state=42)\n",
      "    ...\n",
      "    >>> X_train\n",
      "    array([[4, 5],\n",
      "           [0, 1],\n",
      "           [6, 7]])\n",
      "    >>> y_train\n",
      "    [2, 0, 3]\n",
      "    >>> X_test\n",
      "    array([[2, 3],\n",
      "           [8, 9]])\n",
      "    >>> y_test\n",
      "    [1, 4]\n",
      "    \n",
      "    >>> train_test_split(y, shuffle=False)\n",
      "    [[0, 1, 2], [3, 4]]\n",
      "\n"
     ]
    }
   ],
   "source": [
    "help(train_test_split)"
   ]
  },
  {
   "cell_type": "code",
   "execution_count": 12,
   "id": "9154ea89-0dcd-4b0e-855b-d46c4dcc8a3b",
   "metadata": {},
   "outputs": [],
   "source": [
    "X_train, X_test, y_train, y_test = train_test_split(X, y, test_size=0.25, random_state=44)"
   ]
  },
  {
   "cell_type": "code",
   "execution_count": 13,
   "id": "ccd6b311-c506-495a-9e8b-9319d8959904",
   "metadata": {},
   "outputs": [
    {
     "name": "stdout",
     "output_type": "stream",
     "text": [
      "(12, 1)\n",
      "(12,)\n"
     ]
    }
   ],
   "source": [
    "print(X_train.shape)\n",
    "print(y_train.shape)"
   ]
  },
  {
   "cell_type": "code",
   "execution_count": 14,
   "id": "fcd7043d-f029-4d19-971b-8737d6b0e70b",
   "metadata": {},
   "outputs": [
    {
     "name": "stdout",
     "output_type": "stream",
     "text": [
      "(4, 1)\n",
      "(4,)\n"
     ]
    }
   ],
   "source": [
    "print(X_test.shape)\n",
    "print(y_test.shape)"
   ]
  },
  {
   "cell_type": "markdown",
   "id": "9db57260-8230-4cdb-b792-b9f5a48b20d9",
   "metadata": {},
   "source": [
    "# Let's fit a linear model with one feature (temperature)\n",
    "- we're pursuing models of the form: `G(T) = w0 + w1*T`"
   ]
  },
  {
   "cell_type": "markdown",
   "id": "3b40a9ef-fdf3-406e-ad8a-b6f05c562b6f",
   "metadata": {},
   "source": [
    "First, we'll import the model we want to use (linear regression, in this case)"
   ]
  },
  {
   "cell_type": "code",
   "execution_count": 15,
   "id": "e06ae304-dbd2-4317-98c9-2a77ce18cfd1",
   "metadata": {},
   "outputs": [],
   "source": [
    "from sklearn.linear_model import LinearRegression"
   ]
  },
  {
   "cell_type": "markdown",
   "id": "8a4418d4-a378-4c77-b5da-52b430ea5068",
   "metadata": {},
   "source": [
    "Now, initialize the model\n",
    "- note: when we get to more complex models, there are often several arguments (hyperparameters) that you can choose upon initialization"
   ]
  },
  {
   "cell_type": "code",
   "execution_count": 16,
   "id": "0fff10c8-2b3a-40a9-bb80-d7fd6a473a6a",
   "metadata": {},
   "outputs": [],
   "source": [
    "model = LinearRegression()"
   ]
  },
  {
   "cell_type": "code",
   "execution_count": 17,
   "id": "7a505f74-aa7a-4800-986f-feac81928d75",
   "metadata": {},
   "outputs": [
    {
     "name": "stdout",
     "output_type": "stream",
     "text": [
      "Help on LinearRegression in module sklearn.linear_model._base object:\n",
      "\n",
      "class LinearRegression(sklearn.base.MultiOutputMixin, sklearn.base.RegressorMixin, LinearModel)\n",
      " |  LinearRegression(*, fit_intercept=True, copy_X=True, n_jobs=None, positive=False)\n",
      " |  \n",
      " |  Ordinary least squares Linear Regression.\n",
      " |  \n",
      " |  LinearRegression fits a linear model with coefficients w = (w1, ..., wp)\n",
      " |  to minimize the residual sum of squares between the observed targets in\n",
      " |  the dataset, and the targets predicted by the linear approximation.\n",
      " |  \n",
      " |  Parameters\n",
      " |  ----------\n",
      " |  fit_intercept : bool, default=True\n",
      " |      Whether to calculate the intercept for this model. If set\n",
      " |      to False, no intercept will be used in calculations\n",
      " |      (i.e. data is expected to be centered).\n",
      " |  \n",
      " |  copy_X : bool, default=True\n",
      " |      If True, X will be copied; else, it may be overwritten.\n",
      " |  \n",
      " |  n_jobs : int, default=None\n",
      " |      The number of jobs to use for the computation. This will only provide\n",
      " |      speedup in case of sufficiently large problems, that is if firstly\n",
      " |      `n_targets > 1` and secondly `X` is sparse or if `positive` is set\n",
      " |      to `True`. ``None`` means 1 unless in a\n",
      " |      :obj:`joblib.parallel_backend` context. ``-1`` means using all\n",
      " |      processors. See :term:`Glossary <n_jobs>` for more details.\n",
      " |  \n",
      " |  positive : bool, default=False\n",
      " |      When set to ``True``, forces the coefficients to be positive. This\n",
      " |      option is only supported for dense arrays.\n",
      " |  \n",
      " |      .. versionadded:: 0.24\n",
      " |  \n",
      " |  Attributes\n",
      " |  ----------\n",
      " |  coef_ : array of shape (n_features, ) or (n_targets, n_features)\n",
      " |      Estimated coefficients for the linear regression problem.\n",
      " |      If multiple targets are passed during the fit (y 2D), this\n",
      " |      is a 2D array of shape (n_targets, n_features), while if only\n",
      " |      one target is passed, this is a 1D array of length n_features.\n",
      " |  \n",
      " |  rank_ : int\n",
      " |      Rank of matrix `X`. Only available when `X` is dense.\n",
      " |  \n",
      " |  singular_ : array of shape (min(X, y),)\n",
      " |      Singular values of `X`. Only available when `X` is dense.\n",
      " |  \n",
      " |  intercept_ : float or array of shape (n_targets,)\n",
      " |      Independent term in the linear model. Set to 0.0 if\n",
      " |      `fit_intercept = False`.\n",
      " |  \n",
      " |  n_features_in_ : int\n",
      " |      Number of features seen during :term:`fit`.\n",
      " |  \n",
      " |      .. versionadded:: 0.24\n",
      " |  \n",
      " |  feature_names_in_ : ndarray of shape (`n_features_in_`,)\n",
      " |      Names of features seen during :term:`fit`. Defined only when `X`\n",
      " |      has feature names that are all strings.\n",
      " |  \n",
      " |      .. versionadded:: 1.0\n",
      " |  \n",
      " |  See Also\n",
      " |  --------\n",
      " |  Ridge : Ridge regression addresses some of the\n",
      " |      problems of Ordinary Least Squares by imposing a penalty on the\n",
      " |      size of the coefficients with l2 regularization.\n",
      " |  Lasso : The Lasso is a linear model that estimates\n",
      " |      sparse coefficients with l1 regularization.\n",
      " |  ElasticNet : Elastic-Net is a linear regression\n",
      " |      model trained with both l1 and l2 -norm regularization of the\n",
      " |      coefficients.\n",
      " |  \n",
      " |  Notes\n",
      " |  -----\n",
      " |  From the implementation point of view, this is just plain Ordinary\n",
      " |  Least Squares (scipy.linalg.lstsq) or Non Negative Least Squares\n",
      " |  (scipy.optimize.nnls) wrapped as a predictor object.\n",
      " |  \n",
      " |  Examples\n",
      " |  --------\n",
      " |  >>> import numpy as np\n",
      " |  >>> from sklearn.linear_model import LinearRegression\n",
      " |  >>> X = np.array([[1, 1], [1, 2], [2, 2], [2, 3]])\n",
      " |  >>> # y = 1 * x_0 + 2 * x_1 + 3\n",
      " |  >>> y = np.dot(X, np.array([1, 2])) + 3\n",
      " |  >>> reg = LinearRegression().fit(X, y)\n",
      " |  >>> reg.score(X, y)\n",
      " |  1.0\n",
      " |  >>> reg.coef_\n",
      " |  array([1., 2.])\n",
      " |  >>> reg.intercept_\n",
      " |  3.0...\n",
      " |  >>> reg.predict(np.array([[3, 5]]))\n",
      " |  array([16.])\n",
      " |  \n",
      " |  Method resolution order:\n",
      " |      LinearRegression\n",
      " |      sklearn.base.MultiOutputMixin\n",
      " |      sklearn.base.RegressorMixin\n",
      " |      LinearModel\n",
      " |      sklearn.base.BaseEstimator\n",
      " |      sklearn.utils._metadata_requests._MetadataRequester\n",
      " |      builtins.object\n",
      " |  \n",
      " |  Methods defined here:\n",
      " |  \n",
      " |  __init__(self, *, fit_intercept=True, copy_X=True, n_jobs=None, positive=False)\n",
      " |      Initialize self.  See help(type(self)) for accurate signature.\n",
      " |  \n",
      " |  fit(self, X, y, sample_weight=None)\n",
      " |      Fit linear model.\n",
      " |      \n",
      " |      Parameters\n",
      " |      ----------\n",
      " |      X : {array-like, sparse matrix} of shape (n_samples, n_features)\n",
      " |          Training data.\n",
      " |      \n",
      " |      y : array-like of shape (n_samples,) or (n_samples, n_targets)\n",
      " |          Target values. Will be cast to X's dtype if necessary.\n",
      " |      \n",
      " |      sample_weight : array-like of shape (n_samples,), default=None\n",
      " |          Individual weights for each sample.\n",
      " |      \n",
      " |          .. versionadded:: 0.17\n",
      " |             parameter *sample_weight* support to LinearRegression.\n",
      " |      \n",
      " |      Returns\n",
      " |      -------\n",
      " |      self : object\n",
      " |          Fitted Estimator.\n",
      " |  \n",
      " |  set_fit_request(self: sklearn.linear_model._base.LinearRegression, *, sample_weight: Union[bool, NoneType, str] = '$UNCHANGED$') -> sklearn.linear_model._base.LinearRegression from sklearn.utils._metadata_requests.RequestMethod.__get__.<locals>\n",
      " |      Request metadata passed to the ``fit`` method.\n",
      " |      \n",
      " |      Note that this method is only relevant if\n",
      " |      ``enable_metadata_routing=True`` (see :func:`sklearn.set_config`).\n",
      " |      Please see :ref:`User Guide <metadata_routing>` on how the routing\n",
      " |      mechanism works.\n",
      " |      \n",
      " |      The options for each parameter are:\n",
      " |      \n",
      " |      - ``True``: metadata is requested, and passed to ``fit`` if provided. The request is ignored if metadata is not provided.\n",
      " |      \n",
      " |      - ``False``: metadata is not requested and the meta-estimator will not pass it to ``fit``.\n",
      " |      \n",
      " |      - ``None``: metadata is not requested, and the meta-estimator will raise an error if the user provides it.\n",
      " |      \n",
      " |      - ``str``: metadata should be passed to the meta-estimator with this given alias instead of the original name.\n",
      " |      \n",
      " |      The default (``sklearn.utils.metadata_routing.UNCHANGED``) retains the\n",
      " |      existing request. This allows you to change the request for some\n",
      " |      parameters and not others.\n",
      " |      \n",
      " |      .. versionadded:: 1.3\n",
      " |      \n",
      " |      .. note::\n",
      " |          This method is only relevant if this estimator is used as a\n",
      " |          sub-estimator of a meta-estimator, e.g. used inside a\n",
      " |          :class:`pipeline.Pipeline`. Otherwise it has no effect.\n",
      " |      \n",
      " |      Parameters\n",
      " |      ----------\n",
      " |      sample_weight : str, True, False, or None,                     default=sklearn.utils.metadata_routing.UNCHANGED\n",
      " |          Metadata routing for ``sample_weight`` parameter in ``fit``.\n",
      " |      \n",
      " |      Returns\n",
      " |      -------\n",
      " |      self : object\n",
      " |          The updated object.\n",
      " |  \n",
      " |  set_score_request(self: sklearn.linear_model._base.LinearRegression, *, sample_weight: Union[bool, NoneType, str] = '$UNCHANGED$') -> sklearn.linear_model._base.LinearRegression from sklearn.utils._metadata_requests.RequestMethod.__get__.<locals>\n",
      " |      Request metadata passed to the ``score`` method.\n",
      " |      \n",
      " |      Note that this method is only relevant if\n",
      " |      ``enable_metadata_routing=True`` (see :func:`sklearn.set_config`).\n",
      " |      Please see :ref:`User Guide <metadata_routing>` on how the routing\n",
      " |      mechanism works.\n",
      " |      \n",
      " |      The options for each parameter are:\n",
      " |      \n",
      " |      - ``True``: metadata is requested, and passed to ``score`` if provided. The request is ignored if metadata is not provided.\n",
      " |      \n",
      " |      - ``False``: metadata is not requested and the meta-estimator will not pass it to ``score``.\n",
      " |      \n",
      " |      - ``None``: metadata is not requested, and the meta-estimator will raise an error if the user provides it.\n",
      " |      \n",
      " |      - ``str``: metadata should be passed to the meta-estimator with this given alias instead of the original name.\n",
      " |      \n",
      " |      The default (``sklearn.utils.metadata_routing.UNCHANGED``) retains the\n",
      " |      existing request. This allows you to change the request for some\n",
      " |      parameters and not others.\n",
      " |      \n",
      " |      .. versionadded:: 1.3\n",
      " |      \n",
      " |      .. note::\n",
      " |          This method is only relevant if this estimator is used as a\n",
      " |          sub-estimator of a meta-estimator, e.g. used inside a\n",
      " |          :class:`pipeline.Pipeline`. Otherwise it has no effect.\n",
      " |      \n",
      " |      Parameters\n",
      " |      ----------\n",
      " |      sample_weight : str, True, False, or None,                     default=sklearn.utils.metadata_routing.UNCHANGED\n",
      " |          Metadata routing for ``sample_weight`` parameter in ``score``.\n",
      " |      \n",
      " |      Returns\n",
      " |      -------\n",
      " |      self : object\n",
      " |          The updated object.\n",
      " |  \n",
      " |  ----------------------------------------------------------------------\n",
      " |  Data and other attributes defined here:\n",
      " |  \n",
      " |  __abstractmethods__ = frozenset()\n",
      " |  \n",
      " |  __annotations__ = {'_parameter_constraints': <class 'dict'>}\n",
      " |  \n",
      " |  ----------------------------------------------------------------------\n",
      " |  Data descriptors inherited from sklearn.base.MultiOutputMixin:\n",
      " |  \n",
      " |  __dict__\n",
      " |      dictionary for instance variables\n",
      " |  \n",
      " |  __weakref__\n",
      " |      list of weak references to the object\n",
      " |  \n",
      " |  ----------------------------------------------------------------------\n",
      " |  Methods inherited from sklearn.base.RegressorMixin:\n",
      " |  \n",
      " |  score(self, X, y, sample_weight=None)\n",
      " |      Return the coefficient of determination of the prediction.\n",
      " |      \n",
      " |      The coefficient of determination :math:`R^2` is defined as\n",
      " |      :math:`(1 - \\frac{u}{v})`, where :math:`u` is the residual\n",
      " |      sum of squares ``((y_true - y_pred)** 2).sum()`` and :math:`v`\n",
      " |      is the total sum of squares ``((y_true - y_true.mean()) ** 2).sum()``.\n",
      " |      The best possible score is 1.0 and it can be negative (because the\n",
      " |      model can be arbitrarily worse). A constant model that always predicts\n",
      " |      the expected value of `y`, disregarding the input features, would get\n",
      " |      a :math:`R^2` score of 0.0.\n",
      " |      \n",
      " |      Parameters\n",
      " |      ----------\n",
      " |      X : array-like of shape (n_samples, n_features)\n",
      " |          Test samples. For some estimators this may be a precomputed\n",
      " |          kernel matrix or a list of generic objects instead with shape\n",
      " |          ``(n_samples, n_samples_fitted)``, where ``n_samples_fitted``\n",
      " |          is the number of samples used in the fitting for the estimator.\n",
      " |      \n",
      " |      y : array-like of shape (n_samples,) or (n_samples, n_outputs)\n",
      " |          True values for `X`.\n",
      " |      \n",
      " |      sample_weight : array-like of shape (n_samples,), default=None\n",
      " |          Sample weights.\n",
      " |      \n",
      " |      Returns\n",
      " |      -------\n",
      " |      score : float\n",
      " |          :math:`R^2` of ``self.predict(X)`` w.r.t. `y`.\n",
      " |      \n",
      " |      Notes\n",
      " |      -----\n",
      " |      The :math:`R^2` score used when calling ``score`` on a regressor uses\n",
      " |      ``multioutput='uniform_average'`` from version 0.23 to keep consistent\n",
      " |      with default value of :func:`~sklearn.metrics.r2_score`.\n",
      " |      This influences the ``score`` method of all the multioutput\n",
      " |      regressors (except for\n",
      " |      :class:`~sklearn.multioutput.MultiOutputRegressor`).\n",
      " |  \n",
      " |  ----------------------------------------------------------------------\n",
      " |  Methods inherited from LinearModel:\n",
      " |  \n",
      " |  predict(self, X)\n",
      " |      Predict using the linear model.\n",
      " |      \n",
      " |      Parameters\n",
      " |      ----------\n",
      " |      X : array-like or sparse matrix, shape (n_samples, n_features)\n",
      " |          Samples.\n",
      " |      \n",
      " |      Returns\n",
      " |      -------\n",
      " |      C : array, shape (n_samples,)\n",
      " |          Returns predicted values.\n",
      " |  \n",
      " |  ----------------------------------------------------------------------\n",
      " |  Methods inherited from sklearn.base.BaseEstimator:\n",
      " |  \n",
      " |  __getstate__(self)\n",
      " |      Helper for pickle.\n",
      " |  \n",
      " |  __repr__(self, N_CHAR_MAX=700)\n",
      " |      Return repr(self).\n",
      " |  \n",
      " |  __setstate__(self, state)\n",
      " |  \n",
      " |  __sklearn_clone__(self)\n",
      " |  \n",
      " |  get_params(self, deep=True)\n",
      " |      Get parameters for this estimator.\n",
      " |      \n",
      " |      Parameters\n",
      " |      ----------\n",
      " |      deep : bool, default=True\n",
      " |          If True, will return the parameters for this estimator and\n",
      " |          contained subobjects that are estimators.\n",
      " |      \n",
      " |      Returns\n",
      " |      -------\n",
      " |      params : dict\n",
      " |          Parameter names mapped to their values.\n",
      " |  \n",
      " |  set_params(self, **params)\n",
      " |      Set the parameters of this estimator.\n",
      " |      \n",
      " |      The method works on simple estimators as well as on nested objects\n",
      " |      (such as :class:`~sklearn.pipeline.Pipeline`). The latter have\n",
      " |      parameters of the form ``<component>__<parameter>`` so that it's\n",
      " |      possible to update each component of a nested object.\n",
      " |      \n",
      " |      Parameters\n",
      " |      ----------\n",
      " |      **params : dict\n",
      " |          Estimator parameters.\n",
      " |      \n",
      " |      Returns\n",
      " |      -------\n",
      " |      self : estimator instance\n",
      " |          Estimator instance.\n",
      " |  \n",
      " |  ----------------------------------------------------------------------\n",
      " |  Methods inherited from sklearn.utils._metadata_requests._MetadataRequester:\n",
      " |  \n",
      " |  get_metadata_routing(self)\n",
      " |      Get metadata routing of this object.\n",
      " |      \n",
      " |      Please check :ref:`User Guide <metadata_routing>` on how the routing\n",
      " |      mechanism works.\n",
      " |      \n",
      " |      Returns\n",
      " |      -------\n",
      " |      routing : MetadataRequest\n",
      " |          A :class:`~utils.metadata_routing.MetadataRequest` encapsulating\n",
      " |          routing information.\n",
      " |  \n",
      " |  ----------------------------------------------------------------------\n",
      " |  Class methods inherited from sklearn.utils._metadata_requests._MetadataRequester:\n",
      " |  \n",
      " |  __init_subclass__(**kwargs)\n",
      " |      Set the ``set_{method}_request`` methods.\n",
      " |      \n",
      " |      This uses PEP-487 [1]_ to set the ``set_{method}_request`` methods. It\n",
      " |      looks for the information available in the set default values which are\n",
      " |      set using ``__metadata_request__*`` class attributes, or inferred\n",
      " |      from method signatures.\n",
      " |      \n",
      " |      The ``__metadata_request__*`` class attributes are used when a method\n",
      " |      does not explicitly accept a metadata through its arguments or if the\n",
      " |      developer would like to specify a request value for those metadata\n",
      " |      which are different from the default ``None``.\n",
      " |      \n",
      " |      References\n",
      " |      ----------\n",
      " |      .. [1] https://www.python.org/dev/peps/pep-0487\n",
      "\n"
     ]
    }
   ],
   "source": [
    "help(model)"
   ]
  },
  {
   "cell_type": "markdown",
   "id": "40356a81-f352-4675-9abd-34b10134f744",
   "metadata": {},
   "source": [
    "# sklearn models are `class`es with two essential methods\n",
    "- `model.fit` --> fit my model to my training data\n",
    "- `model.predict` --> make predictions with my fit (trained) model on any data of interest"
   ]
  },
  {
   "cell_type": "code",
   "execution_count": 18,
   "id": "5570a6a0-4a19-4f41-93b3-54e738de52df",
   "metadata": {},
   "outputs": [
    {
     "data": {
      "text/html": [
       "<style>#sk-container-id-1 {color: black;}#sk-container-id-1 pre{padding: 0;}#sk-container-id-1 div.sk-toggleable {background-color: white;}#sk-container-id-1 label.sk-toggleable__label {cursor: pointer;display: block;width: 100%;margin-bottom: 0;padding: 0.3em;box-sizing: border-box;text-align: center;}#sk-container-id-1 label.sk-toggleable__label-arrow:before {content: \"▸\";float: left;margin-right: 0.25em;color: #696969;}#sk-container-id-1 label.sk-toggleable__label-arrow:hover:before {color: black;}#sk-container-id-1 div.sk-estimator:hover label.sk-toggleable__label-arrow:before {color: black;}#sk-container-id-1 div.sk-toggleable__content {max-height: 0;max-width: 0;overflow: hidden;text-align: left;background-color: #f0f8ff;}#sk-container-id-1 div.sk-toggleable__content pre {margin: 0.2em;color: black;border-radius: 0.25em;background-color: #f0f8ff;}#sk-container-id-1 input.sk-toggleable__control:checked~div.sk-toggleable__content {max-height: 200px;max-width: 100%;overflow: auto;}#sk-container-id-1 input.sk-toggleable__control:checked~label.sk-toggleable__label-arrow:before {content: \"▾\";}#sk-container-id-1 div.sk-estimator input.sk-toggleable__control:checked~label.sk-toggleable__label {background-color: #d4ebff;}#sk-container-id-1 div.sk-label input.sk-toggleable__control:checked~label.sk-toggleable__label {background-color: #d4ebff;}#sk-container-id-1 input.sk-hidden--visually {border: 0;clip: rect(1px 1px 1px 1px);clip: rect(1px, 1px, 1px, 1px);height: 1px;margin: -1px;overflow: hidden;padding: 0;position: absolute;width: 1px;}#sk-container-id-1 div.sk-estimator {font-family: monospace;background-color: #f0f8ff;border: 1px dotted black;border-radius: 0.25em;box-sizing: border-box;margin-bottom: 0.5em;}#sk-container-id-1 div.sk-estimator:hover {background-color: #d4ebff;}#sk-container-id-1 div.sk-parallel-item::after {content: \"\";width: 100%;border-bottom: 1px solid gray;flex-grow: 1;}#sk-container-id-1 div.sk-label:hover label.sk-toggleable__label {background-color: #d4ebff;}#sk-container-id-1 div.sk-serial::before {content: \"\";position: absolute;border-left: 1px solid gray;box-sizing: border-box;top: 0;bottom: 0;left: 50%;z-index: 0;}#sk-container-id-1 div.sk-serial {display: flex;flex-direction: column;align-items: center;background-color: white;padding-right: 0.2em;padding-left: 0.2em;position: relative;}#sk-container-id-1 div.sk-item {position: relative;z-index: 1;}#sk-container-id-1 div.sk-parallel {display: flex;align-items: stretch;justify-content: center;background-color: white;position: relative;}#sk-container-id-1 div.sk-item::before, #sk-container-id-1 div.sk-parallel-item::before {content: \"\";position: absolute;border-left: 1px solid gray;box-sizing: border-box;top: 0;bottom: 0;left: 50%;z-index: -1;}#sk-container-id-1 div.sk-parallel-item {display: flex;flex-direction: column;z-index: 1;position: relative;background-color: white;}#sk-container-id-1 div.sk-parallel-item:first-child::after {align-self: flex-end;width: 50%;}#sk-container-id-1 div.sk-parallel-item:last-child::after {align-self: flex-start;width: 50%;}#sk-container-id-1 div.sk-parallel-item:only-child::after {width: 0;}#sk-container-id-1 div.sk-dashed-wrapped {border: 1px dashed gray;margin: 0 0.4em 0.5em 0.4em;box-sizing: border-box;padding-bottom: 0.4em;background-color: white;}#sk-container-id-1 div.sk-label label {font-family: monospace;font-weight: bold;display: inline-block;line-height: 1.2em;}#sk-container-id-1 div.sk-label-container {text-align: center;}#sk-container-id-1 div.sk-container {/* jupyter's `normalize.less` sets `[hidden] { display: none; }` but bootstrap.min.css set `[hidden] { display: none !important; }` so we also need the `!important` here to be able to override the default hidden behavior on the sphinx rendered scikit-learn.org. See: https://github.com/scikit-learn/scikit-learn/issues/21755 */display: inline-block !important;position: relative;}#sk-container-id-1 div.sk-text-repr-fallback {display: none;}</style><div id=\"sk-container-id-1\" class=\"sk-top-container\"><div class=\"sk-text-repr-fallback\"><pre>LinearRegression()</pre><b>In a Jupyter environment, please rerun this cell to show the HTML representation or trust the notebook. <br />On GitHub, the HTML representation is unable to render, please try loading this page with nbviewer.org.</b></div><div class=\"sk-container\" hidden><div class=\"sk-item\"><div class=\"sk-estimator sk-toggleable\"><input class=\"sk-toggleable__control sk-hidden--visually\" id=\"sk-estimator-id-1\" type=\"checkbox\" checked><label for=\"sk-estimator-id-1\" class=\"sk-toggleable__label sk-toggleable__label-arrow\">LinearRegression</label><div class=\"sk-toggleable__content\"><pre>LinearRegression()</pre></div></div></div></div></div>"
      ],
      "text/plain": [
       "LinearRegression()"
      ]
     },
     "execution_count": 18,
     "metadata": {},
     "output_type": "execute_result"
    }
   ],
   "source": [
    "model.fit(X_train, y_train)"
   ]
  },
  {
   "cell_type": "markdown",
   "id": "f3b7f343-98df-4d31-a1a4-13e68d344d4e",
   "metadata": {},
   "source": [
    "Now our model is fit to the training data, so it can be used to make predictions"
   ]
  },
  {
   "cell_type": "code",
   "execution_count": 19,
   "id": "48fbd4eb-81d0-46e9-af7a-63fee940fcaa",
   "metadata": {},
   "outputs": [
    {
     "name": "stdout",
     "output_type": "stream",
     "text": [
      "[-470.0394941  -359.01963976  -62.96669486 -247.99978542 -433.03287599\n",
      " -544.05273033   11.04654136 -507.04611221 -396.02625788  -25.96007675\n",
      "  -99.97331297 -136.97993109]\n"
     ]
    }
   ],
   "source": [
    "y_pred = model.predict(X_train)\n",
    "print(y_pred)"
   ]
  },
  {
   "cell_type": "markdown",
   "id": "df64abac-a9be-41fe-9db0-9ae45bcf8dcb",
   "metadata": {},
   "source": [
    "Lets plot to see how we did on the training set"
   ]
  },
  {
   "cell_type": "code",
   "execution_count": 20,
   "id": "62588b5d-7c40-4d2b-934d-5cf332401443",
   "metadata": {},
   "outputs": [
    {
     "name": "stderr",
     "output_type": "stream",
     "text": [
      "/Users/cbartel/bin/anaconda3/envs/hsi25_ml-ssc_25.0/lib/python3.11/site-packages/IPython/core/pylabtools.py:152: UserWarning: This figure includes Axes that are not compatible with tight_layout, so results might be incorrect.\n",
      "  fig.canvas.print_figure(bytes_io, **kw)\n"
     ]
    },
    {
     "data": {
      "image/png": "[encoded data removed]",
      "text/plain": [
       "<Figure size 1200x600 with 1 Axes>"
      ]
     },
     "metadata": {},
     "output_type": "display_data"
    }
   ],
   "source": [
    "fig = plt.figure()\n",
    "ax = plt.subplot(111)\n",
    "ax = plt.scatter(X_train, y_train, s=marker_size, color='black', label='train (actual)')\n",
    "ax = plt.plot(X_train, y_pred, color='purple', ls='--', lw=0.5, label='train (pred)')\n",
    "ax = plt.xlabel('Temperature (K)')\n",
    "ax = plt.ylabel(r'$G\\/(\\frac{meV}{atom})$')\n",
    "ax = plt.legend()"
   ]
  },
  {
   "cell_type": "markdown",
   "id": "e6707128-c265-4cce-bb20-9e21aa987a6b",
   "metadata": {},
   "source": [
    "There are also many \"scoring\" metrics we might consider"
   ]
  },
  {
   "cell_type": "code",
   "execution_count": 21,
   "id": "ec4514d9-19b1-4cf6-a2f9-9c6c24fadc4d",
   "metadata": {},
   "outputs": [],
   "source": [
    "def mean_error(y_actual, y_pred):\n",
    "    return np.mean([y_actual[i] - y_pred[i] for i in range(len(y_actual))])\n",
    "\n",
    "def mean_absolute_error(y_actual, y_pred):\n",
    "    return np.mean([abs(y_actual[i] - y_pred[i]) for i in range(len(y_actual))])\n",
    "\n",
    "def root_mean_square_error(y_actual, y_pred):\n",
    "    return (np.mean([(y_actual[i] - y_pred[i])**2 for i in range(len(y_actual))]))**0.5"
   ]
  },
  {
   "cell_type": "code",
   "execution_count": 22,
   "id": "945a03a7-f63c-496d-9aaf-241563508c7b",
   "metadata": {},
   "outputs": [
    {
     "data": {
      "text/plain": [
       "-8.348877145181177e-14"
      ]
     },
     "execution_count": 22,
     "metadata": {},
     "output_type": "execute_result"
    }
   ],
   "source": [
    "mean_error(y_train, y_pred)"
   ]
  },
  {
   "cell_type": "code",
   "execution_count": 23,
   "id": "cee732dc-b9e3-4cc5-9b46-23d10cdd002f",
   "metadata": {},
   "outputs": [
    {
     "data": {
      "text/plain": [
       "20.40101851876265"
      ]
     },
     "execution_count": 23,
     "metadata": {},
     "output_type": "execute_result"
    }
   ],
   "source": [
    "mean_absolute_error(y_train, y_pred)"
   ]
  },
  {
   "cell_type": "code",
   "execution_count": 24,
   "id": "bb393217-7cd0-4ed6-9470-59ff7199f1e9",
   "metadata": {},
   "outputs": [
    {
     "data": {
      "text/plain": [
       "23.93878108002388"
      ]
     },
     "execution_count": 24,
     "metadata": {},
     "output_type": "execute_result"
    }
   ],
   "source": [
    "root_mean_square_error(y_train, y_pred)"
   ]
  },
  {
   "cell_type": "markdown",
   "id": "ad61608a-f7b2-4ae4-b5d9-642e299f6410",
   "metadata": {},
   "source": [
    "Each error metric tells you different things:\n",
    "- mean error tells you whether your model is making systematic errors or not (ours clearly isn't)\n",
    "- mean absolute error (MAE) tells you the average absolute difference between your prediction and the target\n",
    "- root mean square error is similar to MAE but the penalty for egregious errors is larger\n",
    "\n",
    "See [`sklearn.metrics`](https://scikit-learn.org/stable/modules/model_evaluation.html) for many options"
   ]
  },
  {
   "cell_type": "markdown",
   "id": "30bebd7a-a86b-4885-b992-5837ff64235a",
   "metadata": {},
   "source": [
    "We can also look at the functional form of our learned model with `coef_` and `intercept_`"
   ]
  },
  {
   "cell_type": "code",
   "execution_count": 25,
   "id": "634c1d19-d516-40aa-96cd-e7a54385ec60",
   "metadata": {},
   "outputs": [
    {
     "name": "stdout",
     "output_type": "stream",
     "text": [
      "our model is G(T) =  -0.37 * T + 122.07 \n"
     ]
    }
   ],
   "source": [
    "print('our model is G(T) =  %.2f * T + %.2f ' % (model.coef_, model.intercept_))"
   ]
  },
  {
   "cell_type": "markdown",
   "id": "d9818c93-9a4a-426a-b8e8-52f4e5c429b4",
   "metadata": {},
   "source": [
    "\n",
    "# Let's make our model better by also including squared temperature dependence"
   ]
  },
  {
   "cell_type": "code",
   "execution_count": 26,
   "id": "7d1a1662-6a36-477c-ae5d-a6a8f109b968",
   "metadata": {},
   "outputs": [],
   "source": [
    "df['T^2'] = df['T']**2"
   ]
  },
  {
   "cell_type": "code",
   "execution_count": 27,
   "id": "31845064-d274-4a28-8cd0-c6e202252267",
   "metadata": {},
   "outputs": [
    {
     "data": {
      "text/html": [
       "<div>\n",
       "<style scoped>\n",
       "    .dataframe tbody tr th:only-of-type {\n",
       "        vertical-align: middle;\n",
       "    }\n",
       "\n",
       "    .dataframe tbody tr th {\n",
       "        vertical-align: top;\n",
       "    }\n",
       "\n",
       "    .dataframe thead th {\n",
       "        text-align: right;\n",
       "    }\n",
       "</style>\n",
       "<table border=\"1\" class=\"dataframe\">\n",
       "  <thead>\n",
       "    <tr style=\"text-align: right;\">\n",
       "      <th></th>\n",
       "      <th>cmpd</th>\n",
       "      <th>T</th>\n",
       "      <th>G</th>\n",
       "      <th>H</th>\n",
       "      <th>S</th>\n",
       "      <th>T^2</th>\n",
       "    </tr>\n",
       "  </thead>\n",
       "  <tbody>\n",
       "    <tr>\n",
       "      <th>0</th>\n",
       "      <td>Al2O3</td>\n",
       "      <td>300</td>\n",
       "      <td>-31.603669</td>\n",
       "      <td>0.303881</td>\n",
       "      <td>0.106358</td>\n",
       "      <td>90000</td>\n",
       "    </tr>\n",
       "    <tr>\n",
       "      <th>1</th>\n",
       "      <td>Al2O3</td>\n",
       "      <td>400</td>\n",
       "      <td>-44.907706</td>\n",
       "      <td>18.626108</td>\n",
       "      <td>0.158835</td>\n",
       "      <td>160000</td>\n",
       "    </tr>\n",
       "    <tr>\n",
       "      <th>2</th>\n",
       "      <td>Al2O3</td>\n",
       "      <td>500</td>\n",
       "      <td>-63.176038</td>\n",
       "      <td>39.604084</td>\n",
       "      <td>0.205560</td>\n",
       "      <td>250000</td>\n",
       "    </tr>\n",
       "    <tr>\n",
       "      <th>3</th>\n",
       "      <td>Al2O3</td>\n",
       "      <td>600</td>\n",
       "      <td>-85.837177</td>\n",
       "      <td>62.257968</td>\n",
       "      <td>0.246825</td>\n",
       "      <td>360000</td>\n",
       "    </tr>\n",
       "    <tr>\n",
       "      <th>4</th>\n",
       "      <td>Al2O3</td>\n",
       "      <td>700</td>\n",
       "      <td>-112.387832</td>\n",
       "      <td>86.057936</td>\n",
       "      <td>0.283494</td>\n",
       "      <td>490000</td>\n",
       "    </tr>\n",
       "  </tbody>\n",
       "</table>\n",
       "</div>"
      ],
      "text/plain": [
       "    cmpd    T           G          H         S     T^2\n",
       "0  Al2O3  300  -31.603669   0.303881  0.106358   90000\n",
       "1  Al2O3  400  -44.907706  18.626108  0.158835  160000\n",
       "2  Al2O3  500  -63.176038  39.604084  0.205560  250000\n",
       "3  Al2O3  600  -85.837177  62.257968  0.246825  360000\n",
       "4  Al2O3  700 -112.387832  86.057936  0.283494  490000"
      ]
     },
     "execution_count": 27,
     "metadata": {},
     "output_type": "execute_result"
    }
   ],
   "source": [
    "df.head()\n"
   ]
  },
  {
   "cell_type": "code",
   "execution_count": 28,
   "id": "a967178e-1454-47aa-90bb-048321ef36e2",
   "metadata": {},
   "outputs": [],
   "source": [
    "features = ['T', 'T^2']\n",
    "target = ['G']\n",
    "\n",
    "X = df[features].values\n",
    "y = df[target].values"
   ]
  },
  {
   "cell_type": "code",
   "execution_count": 29,
   "id": "19383c55-b7cd-47f3-a28b-7a45b24a53a8",
   "metadata": {},
   "outputs": [
    {
     "data": {
      "text/plain": [
       "(16, 2)"
      ]
     },
     "execution_count": 29,
     "metadata": {},
     "output_type": "execute_result"
    }
   ],
   "source": [
    "X.shape"
   ]
  },
  {
   "cell_type": "code",
   "execution_count": 30,
   "id": "53827941-722f-46ba-9722-bafae3fe0a40",
   "metadata": {},
   "outputs": [
    {
     "data": {
      "text/plain": [
       "(16, 1)"
      ]
     },
     "execution_count": 30,
     "metadata": {},
     "output_type": "execute_result"
    }
   ],
   "source": [
    "y.shape"
   ]
  },
  {
   "cell_type": "code",
   "execution_count": 31,
   "id": "f9c5dc91-4dbb-4512-a913-642494338c94",
   "metadata": {},
   "outputs": [
    {
     "name": "stdout",
     "output_type": "stream",
     "text": [
      "[  300 90000]\n",
      "[   400 160000]\n"
     ]
    }
   ],
   "source": [
    "print(X[0, :])\n",
    "print(X[1, :])"
   ]
  },
  {
   "cell_type": "markdown",
   "id": "81b0b3fe-fca8-4796-b13f-d67eb51d8bc5",
   "metadata": {},
   "source": [
    "Let's re-split our data"
   ]
  },
  {
   "cell_type": "code",
   "execution_count": 32,
   "id": "f29a47c4-89ae-4db2-a5bf-3d694e24247d",
   "metadata": {},
   "outputs": [],
   "source": [
    "X_train, X_test, y_train, y_test = train_test_split(X, y, test_size=0.25, random_state=44)"
   ]
  },
  {
   "cell_type": "markdown",
   "id": "1c6da9a8-f7c8-47ac-9622-4dfd0f4f62eb",
   "metadata": {},
   "source": [
    "And train a new model"
   ]
  },
  {
   "cell_type": "code",
   "execution_count": 33,
   "id": "4996863d-3aca-4707-9276-b24b782a39d3",
   "metadata": {},
   "outputs": [
    {
     "data": {
      "text/html": [
       "<style>#sk-container-id-2 {color: black;}#sk-container-id-2 pre{padding: 0;}#sk-container-id-2 div.sk-toggleable {background-color: white;}#sk-container-id-2 label.sk-toggleable__label {cursor: pointer;display: block;width: 100%;margin-bottom: 0;padding: 0.3em;box-sizing: border-box;text-align: center;}#sk-container-id-2 label.sk-toggleable__label-arrow:before {content: \"▸\";float: left;margin-right: 0.25em;color: #696969;}#sk-container-id-2 label.sk-toggleable__label-arrow:hover:before {color: black;}#sk-container-id-2 div.sk-estimator:hover label.sk-toggleable__label-arrow:before {color: black;}#sk-container-id-2 div.sk-toggleable__content {max-height: 0;max-width: 0;overflow: hidden;text-align: left;background-color: #f0f8ff;}#sk-container-id-2 div.sk-toggleable__content pre {margin: 0.2em;color: black;border-radius: 0.25em;background-color: #f0f8ff;}#sk-container-id-2 input.sk-toggleable__control:checked~div.sk-toggleable__content {max-height: 200px;max-width: 100%;overflow: auto;}#sk-container-id-2 input.sk-toggleable__control:checked~label.sk-toggleable__label-arrow:before {content: \"▾\";}#sk-container-id-2 div.sk-estimator input.sk-toggleable__control:checked~label.sk-toggleable__label {background-color: #d4ebff;}#sk-container-id-2 div.sk-label input.sk-toggleable__control:checked~label.sk-toggleable__label {background-color: #d4ebff;}#sk-container-id-2 input.sk-hidden--visually {border: 0;clip: rect(1px 1px 1px 1px);clip: rect(1px, 1px, 1px, 1px);height: 1px;margin: -1px;overflow: hidden;padding: 0;position: absolute;width: 1px;}#sk-container-id-2 div.sk-estimator {font-family: monospace;background-color: #f0f8ff;border: 1px dotted black;border-radius: 0.25em;box-sizing: border-box;margin-bottom: 0.5em;}#sk-container-id-2 div.sk-estimator:hover {background-color: #d4ebff;}#sk-container-id-2 div.sk-parallel-item::after {content: \"\";width: 100%;border-bottom: 1px solid gray;flex-grow: 1;}#sk-container-id-2 div.sk-label:hover label.sk-toggleable__label {background-color: #d4ebff;}#sk-container-id-2 div.sk-serial::before {content: \"\";position: absolute;border-left: 1px solid gray;box-sizing: border-box;top: 0;bottom: 0;left: 50%;z-index: 0;}#sk-container-id-2 div.sk-serial {display: flex;flex-direction: column;align-items: center;background-color: white;padding-right: 0.2em;padding-left: 0.2em;position: relative;}#sk-container-id-2 div.sk-item {position: relative;z-index: 1;}#sk-container-id-2 div.sk-parallel {display: flex;align-items: stretch;justify-content: center;background-color: white;position: relative;}#sk-container-id-2 div.sk-item::before, #sk-container-id-2 div.sk-parallel-item::before {content: \"\";position: absolute;border-left: 1px solid gray;box-sizing: border-box;top: 0;bottom: 0;left: 50%;z-index: -1;}#sk-container-id-2 div.sk-parallel-item {display: flex;flex-direction: column;z-index: 1;position: relative;background-color: white;}#sk-container-id-2 div.sk-parallel-item:first-child::after {align-self: flex-end;width: 50%;}#sk-container-id-2 div.sk-parallel-item:last-child::after {align-self: flex-start;width: 50%;}#sk-container-id-2 div.sk-parallel-item:only-child::after {width: 0;}#sk-container-id-2 div.sk-dashed-wrapped {border: 1px dashed gray;margin: 0 0.4em 0.5em 0.4em;box-sizing: border-box;padding-bottom: 0.4em;background-color: white;}#sk-container-id-2 div.sk-label label {font-family: monospace;font-weight: bold;display: inline-block;line-height: 1.2em;}#sk-container-id-2 div.sk-label-container {text-align: center;}#sk-container-id-2 div.sk-container {/* jupyter's `normalize.less` sets `[hidden] { display: none; }` but bootstrap.min.css set `[hidden] { display: none !important; }` so we also need the `!important` here to be able to override the default hidden behavior on the sphinx rendered scikit-learn.org. See: https://github.com/scikit-learn/scikit-learn/issues/21755 */display: inline-block !important;position: relative;}#sk-container-id-2 div.sk-text-repr-fallback {display: none;}</style><div id=\"sk-container-id-2\" class=\"sk-top-container\"><div class=\"sk-text-repr-fallback\"><pre>LinearRegression()</pre><b>In a Jupyter environment, please rerun this cell to show the HTML representation or trust the notebook. <br />On GitHub, the HTML representation is unable to render, please try loading this page with nbviewer.org.</b></div><div class=\"sk-container\" hidden><div class=\"sk-item\"><div class=\"sk-estimator sk-toggleable\"><input class=\"sk-toggleable__control sk-hidden--visually\" id=\"sk-estimator-id-2\" type=\"checkbox\" checked><label for=\"sk-estimator-id-2\" class=\"sk-toggleable__label sk-toggleable__label-arrow\">LinearRegression</label><div class=\"sk-toggleable__content\"><pre>LinearRegression()</pre></div></div></div></div></div>"
      ],
      "text/plain": [
       "LinearRegression()"
      ]
     },
     "execution_count": 33,
     "metadata": {},
     "output_type": "execute_result"
    }
   ],
   "source": [
    "model = LinearRegression()\n",
    "model.fit(X_train, y_train)"
   ]
  },
  {
   "cell_type": "code",
   "execution_count": 34,
   "id": "4eda29f2-00d3-4da4-8dba-25c31173ae91",
   "metadata": {},
   "outputs": [],
   "source": [
    "y_pred = model.predict(X_train)"
   ]
  },
  {
   "cell_type": "code",
   "execution_count": 35,
   "id": "e57bd6d6-37d8-4871-933c-e95dbf926de8",
   "metadata": {},
   "outputs": [
    {
     "name": "stdout",
     "output_type": "stream",
     "text": [
      "[1600 1300  500 1000 1500 1800  300 1700 1400  400  600  700]\n"
     ]
    }
   ],
   "source": [
    "print(X_train[:,0])"
   ]
  },
  {
   "cell_type": "code",
   "execution_count": 36,
   "id": "ae4bf7f3-60fc-49c4-8056-53148e10054f",
   "metadata": {},
   "outputs": [
    {
     "name": "stderr",
     "output_type": "stream",
     "text": [
      "/Users/cbartel/bin/anaconda3/envs/hsi25_ml-ssc_25.0/lib/python3.11/site-packages/IPython/core/pylabtools.py:152: UserWarning: This figure includes Axes that are not compatible with tight_layout, so results might be incorrect.\n",
      "  fig.canvas.print_figure(bytes_io, **kw)\n"
     ]
    },
    {
     "data": {
      "image/png": "[encoded data removed]",
      "text/plain": [
       "<Figure size 1200x600 with 1 Axes>"
      ]
     },
     "metadata": {},
     "output_type": "display_data"
    }
   ],
   "source": [
    "fig = plt.figure()\n",
    "ax = plt.subplot(111)\n",
    "ax = plt.scatter(X_train[:,0], y_train, s=marker_size, color='black', label='train (actual)')\n",
    "ax = plt.scatter(X_train[:,0], y_pred, s=marker_size, color='purple', lw=0.5, facecolor='white', label='train (pred)')\n",
    "ax = plt.xlabel('Temperature (K)')\n",
    "ax = plt.ylabel(r'$G\\/(\\frac{meV}{atom})$')\n",
    "ax = plt.legend()"
   ]
  },
  {
   "cell_type": "code",
   "execution_count": 37,
   "id": "d2682d91-1032-442b-921f-8ba14927c209",
   "metadata": {},
   "outputs": [
    {
     "data": {
      "text/plain": [
       "2.687868723453434"
      ]
     },
     "execution_count": 37,
     "metadata": {},
     "output_type": "execute_result"
    }
   ],
   "source": [
    "mean_absolute_error(y_train, y_pred)"
   ]
  },
  {
   "cell_type": "code",
   "execution_count": 38,
   "id": "7b555001-8515-46c3-965c-06c8ad95f17a",
   "metadata": {},
   "outputs": [
    {
     "name": "stdout",
     "output_type": "stream",
     "text": [
      "our model is G(T) =  -0.0939 * T + -0.0001 * T^2 + 14.18 \n"
     ]
    }
   ],
   "source": [
    "print('our model is G(T) =  %.4f * T + %.4f * T^2 + %.2f ' % (model.coef_[0][0], model.coef_[0][1], model.intercept_))"
   ]
  },
  {
   "cell_type": "markdown",
   "id": "395a5329-5771-4527-b63b-bdb8ee53c79e",
   "metadata": {},
   "source": [
    "# We're doing the same things over and over.. how about some functions?"
   ]
  },
  {
   "cell_type": "code",
   "execution_count": 39,
   "id": "aaff302e-73e0-4db9-bf61-4fb11e8b7acf",
   "metadata": {},
   "outputs": [],
   "source": [
    "def get_Xy(df, features, target):\n",
    "    \"\"\"\n",
    "    Args:\n",
    "        df (Pandas DataFrame) - our tabular data\n",
    "        features (list) - list of strings that correspond with columns in our df\n",
    "        target (str) - name of column in our df with target property\n",
    "\n",
    "    Returns:\n",
    "        X, y \n",
    "            where X is our feature matrix, which is an array with X.shape = (len(df), len(features)\n",
    "            and y is our target array, which is an array with y.shape = (len(df), )\n",
    "    \"\"\"\n",
    "    X = df[features].values\n",
    "    y = df[target].values\n",
    "    return X, y\n",
    "\n",
    "def do_train_test_split(X, y, test_size=0.25, random_state=44):\n",
    "    \"\"\"\n",
    "    Args:\n",
    "        X (np.ndarray): feature matrix, which is an array with X.shape = (len(df), len(features)\n",
    "        y (np.ndarray): target array, which is an array with y.shape = (len(df), ) \n",
    "        test_size (float): the fraction of our data we want to reserve for testing\n",
    "        random_state (int): a random state variable to make our split deterministic\n",
    "    Returns:\n",
    "        X_train, X_test, y_train, y_test\n",
    "            feature matrices (np.ndarray) for training and testing\n",
    "            target arrays (np.ndarray) for training and testing\n",
    "    \"\"\"\n",
    "    return train_test_split(X, y, test_size=test_size, random_state=random_state)\n",
    "\n",
    "def fit_model(model, X_train, y_train):\n",
    "    \"\"\"\n",
    "    Args:\n",
    "        model (sklearn model): some model in sklearn\n",
    "        X_train (np.ndarray): training feature matrix\n",
    "        y_train (np.ndarray): training target vector\n",
    "\n",
    "    Returns:\n",
    "        sklearn model fit to (X_train, y_train)\n",
    "    \"\"\"\n",
    "    model.fit(X_train, y_train)\n",
    "    return model\n",
    "\n",
    "def make_predictions(fit_model, X):\n",
    "    \"\"\"\n",
    "    Args:\n",
    "        fit_model (sklearn model): some model in sklearn that has been fit\n",
    "        X (np.ndarray): some feature matrix that you want to make predictions on\n",
    "    Returns:\n",
    "        array of predictions given the feature matrix, X\n",
    "    \"\"\"\n",
    "    return fit_model.predict(X)\n",
    "\n",
    "def score(y_actual, y_pred):\n",
    "    \"\"\"\n",
    "    Args:\n",
    "        y_actual (np.ndarray): the actual values of the target\n",
    "        y_pred (np.ndarray): model-predicted values of the target\n",
    "\n",
    "    Returns:\n",
    "        dict of scores\n",
    "    \"\"\"\n",
    "    return {'me' : mean_error(y_actual, y_pred),\n",
    "            'mae' : mean_absolute_error(y_actual, y_pred),\n",
    "            'rmse' : root_mean_square_error(y_actual, y_pred)}\n",
    "\n",
    "def plot_results_vs_some_feature(X_train, y_train, y_pred, feature_index):\n",
    "    \"\"\"\n",
    "    Args:\n",
    "        X (np.ndarray): feature matrix\n",
    "        y_train (np.ndarray): target array used for training\n",
    "        y_pred (np.ndarray): model predictions\n",
    "        feature_index (int): index of feature you want to plot with respect to\n",
    "    \"\"\"\n",
    "    fig = plt.figure()\n",
    "    ax = plt.subplot(111)\n",
    "    ax = plt.scatter(X_train[:,feature_index], y_train, s=marker_size, color='black', label='actual')\n",
    "    ax = plt.scatter(X_train[:,feature_index], y_pred, s=marker_size, color='purple', lw=0.5, facecolor='white', label='pred')\n",
    "    ax = plt.xlabel('Temperature (K)')\n",
    "    ax = plt.ylabel(r'$G\\/(\\frac{meV}{atom})$')\n",
    "    ax = plt.legend()"
   ]
  },
  {
   "cell_type": "markdown",
   "id": "807e37f9-3ec0-40e2-a929-54e84023ae4e",
   "metadata": {},
   "source": [
    "Let's see how it looks"
   ]
  },
  {
   "cell_type": "code",
   "execution_count": 40,
   "id": "f7d17f05-aa96-44a5-b78f-721b20bc6929",
   "metadata": {},
   "outputs": [
    {
     "name": "stdout",
     "output_type": "stream",
     "text": [
      "Training scores...\n",
      " {'me': 8.500145032286355e-17, 'mae': 0.004679458008526943, 'rmse': 0.005117075861159661}\n",
      "\n",
      "Testing scores...\n",
      " {'me': 0.003475194320467452, 'mae': 0.0037158683688139973, 'rmse': 0.004478789351803074}\n"
     ]
    }
   ],
   "source": [
    "df = pd.read_csv(data_file)\n",
    "features = ['H', 'T']\n",
    "target = 'G'\n",
    "X, y = get_Xy(df, features, target)\n",
    "\n",
    "test_size, random_state = 0.25, 44\n",
    "X_train, X_test, y_train, y_test = do_train_test_split(X, y, test_size, random_state)\n",
    "\n",
    "model = LinearRegression()\n",
    "model = fit_model(model, X_train, y_train)\n",
    "\n",
    "y_pred_train = make_predictions(model, X_train)\n",
    "y_pred_test = make_predictions(model, X_test)\n",
    "\n",
    "scores = {'train' : score(y_train, y_pred_train), 'test' : score(y_test, y_pred_test)}\n",
    "print('Training scores...\\n %s' % scores['train'])\n",
    "print('\\nTesting scores...\\n %s' % scores['test'])"
   ]
  },
  {
   "cell_type": "code",
   "execution_count": 41,
   "id": "bf8135c8-a5bd-4875-ac79-05202afd2566",
   "metadata": {},
   "outputs": [
    {
     "name": "stderr",
     "output_type": "stream",
     "text": [
      "/Users/cbartel/bin/anaconda3/envs/hsi25_ml-ssc_25.0/lib/python3.11/site-packages/IPython/core/pylabtools.py:152: UserWarning: This figure includes Axes that are not compatible with tight_layout, so results might be incorrect.\n",
      "  fig.canvas.print_figure(bytes_io, **kw)\n"
     ]
    },
    {
     "data": {
      "image/png": "[encoded data removed]",
      "text/plain": [
       "<Figure size 1200x600 with 1 Axes>"
      ]
     },
     "metadata": {},
     "output_type": "display_data"
    }
   ],
   "source": [
    "plot_results_vs_some_feature(X_train, y_train, y_pred_train, 1)"
   ]
  },
  {
   "cell_type": "markdown",
   "id": "215bc584-d101-40dc-93a1-257823598d04",
   "metadata": {},
   "source": [
    "# **Group activity**:\n",
    "Now load a new file from our data directory called `'Al_cmpds.csv'`. This has data not just for Al2O3, but for other Al-containing compounds.\n",
    "\n",
    "**Guidelines**:\n",
    "- print how many data points you have\n",
    "- print how many compounds you have\n",
    "- plot a histogram of temperatures in your dataset\n",
    "- who can come up with the best model? you might consider manipulating the features\n",
    "- we want our model to work for new Al-containing compounds in the future. does that inform how we might split training and testing?\n",
    "\n",
    "**Note**:\n",
    "- if you're curious, I came up w/ a decent solution for a very similar problem during my PhD -- **[Physical descriptor for the Gibbs energy of inorganic crystalline solids and temperature-dependent materials chemistry](https://www.nature.com/articles/s41467-018-06682-4)**"
   ]
  },
  {
   "cell_type": "code",
   "execution_count": 42,
   "id": "9bef1078-a061-4e5b-86eb-73bbf4e03550",
   "metadata": {},
   "outputs": [
    {
     "data": {
      "text/html": [
       "<div>\n",
       "<style scoped>\n",
       "    .dataframe tbody tr th:only-of-type {\n",
       "        vertical-align: middle;\n",
       "    }\n",
       "\n",
       "    .dataframe tbody tr th {\n",
       "        vertical-align: top;\n",
       "    }\n",
       "\n",
       "    .dataframe thead th {\n",
       "        text-align: right;\n",
       "    }\n",
       "</style>\n",
       "<table border=\"1\" class=\"dataframe\">\n",
       "  <thead>\n",
       "    <tr style=\"text-align: right;\">\n",
       "      <th></th>\n",
       "      <th>cmpd</th>\n",
       "      <th>G</th>\n",
       "      <th>H</th>\n",
       "      <th>S</th>\n",
       "      <th>T</th>\n",
       "    </tr>\n",
       "  </thead>\n",
       "  <tbody>\n",
       "    <tr>\n",
       "      <th>0</th>\n",
       "      <td>Al2O3</td>\n",
       "      <td>-0.031604</td>\n",
       "      <td>0.000304</td>\n",
       "      <td>0.000106</td>\n",
       "      <td>300</td>\n",
       "    </tr>\n",
       "    <tr>\n",
       "      <th>1</th>\n",
       "      <td>Al2O3</td>\n",
       "      <td>-0.044908</td>\n",
       "      <td>0.018626</td>\n",
       "      <td>0.000159</td>\n",
       "      <td>400</td>\n",
       "    </tr>\n",
       "    <tr>\n",
       "      <th>2</th>\n",
       "      <td>Al2O3</td>\n",
       "      <td>-0.063176</td>\n",
       "      <td>0.039604</td>\n",
       "      <td>0.000206</td>\n",
       "      <td>500</td>\n",
       "    </tr>\n",
       "    <tr>\n",
       "      <th>3</th>\n",
       "      <td>Al2O3</td>\n",
       "      <td>-0.085837</td>\n",
       "      <td>0.062258</td>\n",
       "      <td>0.000247</td>\n",
       "      <td>600</td>\n",
       "    </tr>\n",
       "    <tr>\n",
       "      <th>4</th>\n",
       "      <td>Al2O3</td>\n",
       "      <td>-0.112388</td>\n",
       "      <td>0.086058</td>\n",
       "      <td>0.000283</td>\n",
       "      <td>700</td>\n",
       "    </tr>\n",
       "  </tbody>\n",
       "</table>\n",
       "</div>"
      ],
      "text/plain": [
       "    cmpd         G         H         S    T\n",
       "0  Al2O3 -0.031604  0.000304  0.000106  300\n",
       "1  Al2O3 -0.044908  0.018626  0.000159  400\n",
       "2  Al2O3 -0.063176  0.039604  0.000206  500\n",
       "3  Al2O3 -0.085837  0.062258  0.000247  600\n",
       "4  Al2O3 -0.112388  0.086058  0.000283  700"
      ]
     },
     "execution_count": 42,
     "metadata": {},
     "output_type": "execute_result"
    }
   ],
   "source": [
    "df = pd.read_csv(os.path.join('..', 'data', 'Al_cmpds.csv'))\n",
    "df.head()"
   ]
  }
 ],
 "metadata": {
  "kernelspec": {
   "display_name": "hsi25_ml-ssc_25.0",
   "language": "python",
   "name": "hsi25_ml-ssc_25.0"
  },
  "language_info": {
   "codemirror_mode": {
    "name": "ipython",
    "version": 3
   },
   "file_extension": ".py",
   "mimetype": "text/x-python",
   "name": "python",
   "nbconvert_exporter": "python",
   "pygments_lexer": "ipython3",
   "version": "3.11.13"
  }
 },
 "nbformat": 4,
 "nbformat_minor": 5
}
